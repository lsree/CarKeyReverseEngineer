{
 "cells": [
  {
   "cell_type": "code",
   "execution_count": 1,
   "metadata": {},
   "outputs": [],
   "source": [
    "import numpy as np\n",
    "\n",
    "import matplotlib.pyplot as plt\n",
    "from ipywidgets import interactive, interact\n",
    "from matplotlib import animation, rc\n",
    "import ipywidgets as widgets\n",
    "%matplotlib widget\n",
    "from scipy import fftpack as fft\n",
    "from scipy import signal as sig\n",
    "plt.close('all')"
   ]
  },
  {
   "cell_type": "code",
   "execution_count": 2,
   "metadata": {},
   "outputs": [],
   "source": [
    "#Import Data\n",
    "raw0 = np.fromfile(open(\"open_press.smpl\"), dtype=np.complex64)\n",
    "\n",
    "#The FMCOMMS3 uses an automatic gain control. Haven't figured out how to config manual gain control correctly so I need to remove pre-gain correction.\n",
    "\n",
    "#Constants\n",
    "fs = 1000000 # Samples/seconds\n",
    "#Note: set gain to ~45dB and configure gr-iio to manual gain mode in GRC TODO: nake this work.\n",
    "\n",
    "#raw0 with respect to time\n",
    "Traw = np.linspace(0.0, raw0.size/fs, raw0.size)"
   ]
  },
  {
   "cell_type": "code",
   "execution_count": 3,
   "metadata": {},
   "outputs": [
    {
     "data": {
      "application/vnd.jupyter.widget-view+json": {
       "model_id": "162f0d5ad2a94e78a24f27f5583a8139",
       "version_major": 2,
       "version_minor": 0
      },
      "text/plain": [
       "Canvas(toolbar=Toolbar(toolitems=[('Home', 'Reset original view', 'home', 'home'), ('Back', 'Back to previous …"
      ]
     },
     "metadata": {},
     "output_type": "display_data"
    },
    {
     "data": {
      "application/vnd.jupyter.widget-view+json": {
       "model_id": "79c9989af7074ca3b38324916f457b3c",
       "version_major": 2,
       "version_minor": 0
      },
      "text/plain": [
       "Canvas(toolbar=Toolbar(toolitems=[('Home', 'Reset original view', 'home', 'home'), ('Back', 'Back to previous …"
      ]
     },
     "metadata": {},
     "output_type": "display_data"
    }
   ],
   "source": [
    "#Lets view raw signal and its FT\n",
    "\n",
    "def calcFFT(data, fs):\n",
    "    yf = fft.fft(data)\n",
    "    yf = fft.fftshift(yf)\n",
    "    xf = fft.fftfreq(data.size, 1/fs)\n",
    "    xf = fft.fftshift(xf)\n",
    "    return [xf, yf]\n",
    "\n",
    "plt.figure()\n",
    "plt.plot(Traw, raw0.real, Traw, raw0.imag)\n",
    "plt.show()\n",
    "\n",
    "rawFFT = calcFFT(raw0, fs)\n",
    "\n",
    "plt.figure()\n",
    "plt.plot(rawFFT[0], rawFFT[1].real, rawFFT[0], rawFFT[1].imag)\n",
    "plt.show()\n"
   ]
  },
  {
   "cell_type": "code",
   "execution_count": 4,
   "metadata": {},
   "outputs": [
    {
     "data": {
      "application/vnd.jupyter.widget-view+json": {
       "model_id": "5de740b1c9cd4318878e88723ef68a29",
       "version_major": 2,
       "version_minor": 0
      },
      "text/plain": [
       "Canvas(toolbar=Toolbar(toolitems=[('Home', 'Reset original view', 'home', 'home'), ('Back', 'Back to previous …"
      ]
     },
     "metadata": {},
     "output_type": "display_data"
    },
    {
     "data": {
      "application/vnd.jupyter.widget-view+json": {
       "model_id": "626b8c75513a40ae9a5ec805349ce02f",
       "version_major": 2,
       "version_minor": 0
      },
      "text/plain": [
       "Canvas(toolbar=Toolbar(toolitems=[('Home', 'Reset original view', 'home', 'home'), ('Back', 'Back to previous …"
      ]
     },
     "metadata": {},
     "output_type": "display_data"
    }
   ],
   "source": [
    "#TODO: To optimize integrate this into find packets method\n",
    "#isolate noisy start/where gain is not set correctly\n",
    "sos = sig.butter(15, 100, 'lp', fs=fs, output='sos')\n",
    "rawf = sig.sosfilt(sos, raw0)\n",
    "\n",
    "gain_set =abs(rawf)>.005  \n",
    "\n",
    "gain_set_loc = np.argmax(gain_set)\n",
    "raw = raw0[gain_set_loc:]\n",
    "\n",
    "#Show successful isolation. New dataset is in orange\n",
    "plt.figure(\"Remove FMCOMMS Gain Instability\")\n",
    "plt.plot(Traw, raw0.real, Traw[gain_set_loc:], raw.real)\n",
    "plt.show()\n",
    "\n",
    "T = np.linspace(0.0, raw.size/fs, raw.size)\n",
    "#Plot with new time reference\n",
    "plt.figure(\"Received Broadcast Plotted Over Time\")\n",
    "plt.plot(T, raw.real, T, raw.imag)\n",
    "plt.show()\n"
   ]
  },
  {
   "cell_type": "code",
   "execution_count": 5,
   "metadata": {},
   "outputs": [
    {
     "name": "stdout",
     "output_type": "stream",
     "text": [
      "PKT Start in time: 0.044438011136349743\n",
      "PKT End in time is about: 0.0941330235901258\n"
     ]
    },
    {
     "data": {
      "application/vnd.jupyter.widget-view+json": {
       "model_id": "f65f72606b9a49e88f90275f7d4eb325",
       "version_major": 2,
       "version_minor": 0
      },
      "text/plain": [
       "Canvas(toolbar=Toolbar(toolitems=[('Home', 'Reset original view', 'home', 'home'), ('Back', 'Back to previous …"
      ]
     },
     "metadata": {},
     "output_type": "display_data"
    },
    {
     "name": "stdout",
     "output_type": "stream",
     "text": [
      "Dominant Freq is: 5791.973181860509\n"
     ]
    }
   ],
   "source": [
    "#Now that we can hypothosize that the remote sends a same/similar message the longer the button is pressed, we can \n",
    "#isolatethe message based on the first occurence \n",
    "#Maybe optimal method is to use derivative like what is used to isolate bits\n",
    "\n",
    "def isolatePacket(raw_data):\n",
    "    SMPL_BUFF = 2000 # buffer to \n",
    "    PCKT_SIZE_EST = 50000\n",
    "    tx =abs(raw_data)>.05  \n",
    "    msg_loc = np.where(tx == True)[0] #locatoins where value non-zero\n",
    "    start_tx = msg_loc[0] - SMPL_BUFF #I know this is dangerous but I'm a badass\n",
    "    \n",
    "    #find end of packet\n",
    "    diff_msg_loc = np.roll(msg_loc, 1)\n",
    "    diff_msg_loc[0] = msg_loc[0]\n",
    "    temp = np.where((msg_loc - diff_msg_loc) > PCKT_SIZE_EST)[0]\n",
    "    end_tx = msg_loc[temp[0]] - PCKT_SIZE_EST + SMPL_BUFF\n",
    "    \n",
    "    return [start_tx, end_tx]\n",
    "\n",
    "\n",
    "pkt_size = isolatePacket(raw)\n",
    "raw_pkt = raw[pkt_size[0]:pkt_size[1]]\n",
    "x_raw_pkt = T[pkt_size[0]:pkt_size[1]] #For plotting in time\n",
    "#x_raw_pkt = range(raw_pkt.real.size)\n",
    "\n",
    "print(\"PKT Start in time:\", T[pkt_size[0]+2000])\n",
    "print(\"PKT End in time is about:\", T[pkt_size[1]-2000])\n",
    "\n",
    "plt.figure(\"Isolated Packet\")\n",
    "plt.plot(x_raw_pkt, raw_pkt.real, x_raw_pkt, raw_pkt.imag)\n",
    "plt.show()\n",
    "\n",
    "#Find dominant frequency/ carrier freq? Not sure if that's the right term\n",
    "raw_pktFFT = calcFFT(raw_pkt, fs)\n",
    "temp = np.max(np.abs(raw_pktFFT[1]))\n",
    "F0_index = np.where(np.abs(raw_pktFFT[1]) == temp)\n",
    "F0 = raw_pktFFT[0][(F0_index[0])][0]\n",
    "print(\"Dominant Freq is:\", F0)"
   ]
  },
  {
   "cell_type": "markdown",
   "metadata": {},
   "source": [
    "## Initial Analysis of packets\n",
    "### Packet Makeup\n",
    "Each packet seems to consist of a preamble followed by a message body. In phase (I) and quadrature (Q) seems to be out of phase by a consistent amount. Looks like 90 degree phase difference. \n",
    "#### Preamble Data\n",
    "The preamble consists of 6 pulses.\n",
    "\n",
    "| Pulse # | Periods | Positive Phase Angle (<180deg) | Time difference b/t I and Q | Pulse Frequency |\n",
    "| ------- | ------- | ------------------------------ | --------------------------- | --------------- |\n",
    "| 1       | 1.5     | +                              | .0000376                    |\n",
    "| 2       | 3       | +                              | .0000439                    |\n",
    "| 3       | 2.5     | +                              | .0000461                    |\n",
    "| 4       | 2.5     | -                              | .0000438                    | 5792 |\n",
    "| 5       | 3       | -                              | .0000439                    | 5792 |\n",
    "| 6       | 1.5     | +                              | .0000427                    | 5733 |\n",
    "\n",
    "\n",
    "Average time difference in phase b/t I and Q is 440.8 (excluding Pulse 1 outlier). Frequency of pulses appears to be ~5792 Hz. I stopped measuring because it's smarter to just look at where the max FFT value occurs. Max off FFT put dominant freq at 5.791 kHz. This is in line with manual calculations. The phase can difference b/t I and Q data is estimated to be 91.9 degrees. Basically 90 degrees. I guess this should've been assumed because of the definition of quadrature. \n",
    "\n",
    "If the protocol is anything like CAN, SPI, I2C, I assume that the preamble contains some sort of address.\n",
    "\n",
    "#### Body Data\n",
    "Body conisists of 58 pulses. Each pulse seems to vary in number of periods. In addition, the length of time b/t each pulse seems to vary as well. Table includes first 6 pulses. I don't feel like manually categorizing them all.\n",
    "\n",
    "| Pulse # | Periods | Positive Phase Angle (<180deg) |\n",
    "| ------- | ------- | ------------------------------ |\n",
    "| 1       | 1.5     | -                              |\n",
    "| 2       | 3       | -                              |\n",
    "| 3       | 2.5     | -                              |\n",
    "| 4       | 3       | +                              |\n",
    "| 5       | 3       | -                              |\n",
    "| 6       | 1.5     | +                              |\n",
    "\n",
    "#### Hypotheses\n",
    "* BPSK: Bits values are encoded into the phase of the incoming signal\n",
    "    * The phase differences allude to a BPSK scheme\n",
    "* ASK (Amplitude Shift-Keying): Bit values are determined by time, similar to electrical signals. \n",
    "    * The periodic differences allude to time encoding method\n",
    "    * TBH I think that this is the most likely cast given that a car key is a low cost device. It seems cheapest to decode.\n",
    "    * ON/OFF keying\n",
    "    * this also accounts for the differences in phases. \n",
    "\n",
    "### Decoding Courses of Action\n",
    "How do I prove / disprove each hypothesis?\n",
    "#### ASK\n",
    "Since this is the most likely COA, it will be the first I explore\n",
    "1. Determine duration of each pulse/bit\n",
    "1. Get bit values\n",
    "    * Integrate and Dump\n",
    "    * LPF the entire thing and then use bit timing\n",
    "    * LPF and identify time intervals.\n",
    "    * I guess both ways mentioned above are essentially the same. LPF and integrate are basically the same thing I'm pretty sure. It just comes down to which is less computationally intensive. (Kids this is why you don't join the army. It makes you stupid and forget things you learnt sophomore year of college.)\n",
    "1. Compare periods/time of each pulse accross multiple packets of the same button press\n",
    "1. Compare periods/time of each pulse accross multiple packets with different button presses\n",
    "\n",
    "#### BPSK\n",
    "1. Determine phase of each pulse\n",
    "1. Compare phase accross multiple packets of the same button press\n",
    "1. Compare phase accross multiple packets with different button presses\n",
    "\n"
   ]
  },
  {
   "cell_type": "code",
   "execution_count": 45,
   "metadata": {},
   "outputs": [
    {
     "data": {
      "application/vnd.jupyter.widget-view+json": {
       "model_id": "9dc5f47bc0bb411bb02362511dba5c14",
       "version_major": 2,
       "version_minor": 0
      },
      "text/plain": [
       "Canvas(toolbar=Toolbar(toolitems=[('Home', 'Reset original view', 'home', 'home'), ('Back', 'Back to previous …"
      ]
     },
     "metadata": {},
     "output_type": "display_data"
    }
   ],
   "source": [
    "raw2_pkt = -raw_pkt*raw_pkt\n",
    "raw2_pkt.imag = -raw_pkt.imag*raw_pkt.imag\n",
    "plt.figure()\n",
    "plt.plot(x_raw_pkt, raw2_pkt.real, x_raw_pkt, raw2_pkt.imag) #x_raw_pkt, abs(raw2_pkt))\n",
    "plt.show()"
   ]
  },
  {
   "cell_type": "code",
   "execution_count": null,
   "metadata": {},
   "outputs": [],
   "source": []
  },
  {
   "cell_type": "code",
   "execution_count": 45,
   "metadata": {},
   "outputs": [
    {
     "name": "stdout",
     "output_type": "stream",
     "text": [
      "1900 2732\n"
     ]
    },
    {
     "name": "stderr",
     "output_type": "stream",
     "text": [
      "<ipython-input-45-5c6c69f82f93>:30: RuntimeWarning: More than 20 figures have been opened. Figures created through the pyplot interface (`matplotlib.pyplot.figure`) are retained until explicitly closed and may consume too much memory. (To control this warning, see the rcParam `figure.max_open_warning`).\n",
      "  plt.figure()\n"
     ]
    },
    {
     "data": {
      "application/vnd.jupyter.widget-view+json": {
       "model_id": "3596013bc52140ce9ee9ce67ff4d15d9",
       "version_major": 2,
       "version_minor": 0
      },
      "text/plain": [
       "Canvas(toolbar=Toolbar(toolitems=[('Home', 'Reset original view', 'home', 'home'), ('Back', 'Back to previous …"
      ]
     },
     "metadata": {},
     "output_type": "display_data"
    },
    {
     "name": "stderr",
     "output_type": "stream",
     "text": [
      "<ipython-input-45-5c6c69f82f93>:34: RuntimeWarning: More than 20 figures have been opened. Figures created through the pyplot interface (`matplotlib.pyplot.figure`) are retained until explicitly closed and may consume too much memory. (To control this warning, see the rcParam `figure.max_open_warning`).\n",
      "  plt.figure()\n"
     ]
    },
    {
     "data": {
      "application/vnd.jupyter.widget-view+json": {
       "model_id": "0e23152550a94d02907665635e3858c9",
       "version_major": 2,
       "version_minor": 0
      },
      "text/plain": [
       "Canvas(toolbar=Toolbar(toolitems=[('Home', 'Reset original view', 'home', 'home'), ('Back', 'Back to previous …"
      ]
     },
     "metadata": {},
     "output_type": "display_data"
    },
    {
     "name": "stdout",
     "output_type": "stream",
     "text": [
      "Bit Start in time: 0.044438011136349743\n",
      "Bit End in time: 0.0450700112947316\n"
     ]
    }
   ],
   "source": [
    "#Isolate bits\n",
    "#maybe another/smarter way to do this is to use the derivative\n",
    "#Based on graphical observation of the graph above, I found 4 bit lengths in # of samples. I will average to get an\n",
    "#    estimated bit length\n",
    "\n",
    "bLeng_raw = [9.415e5-4.205e5, 9.411e5-9.404e5, 9.431e5-9.425e5, 9.441e5-9.435e5]\n",
    "BLENG_EST = int (np.sum(bLeng_raw) / len(bLeng_raw))\n",
    "BLENG_EST = 400\n",
    "\n",
    "ZERO_TRESH = .05    #Determined graphically. Threshold to determine b/t zero and non-zero\n",
    "SMPL_BUFF = 100 # buffer to add at the end of the bit for optimal viewing\n",
    "\n",
    "#Method 1 using zero threshold\n",
    "#Find start of bit\n",
    "tx =abs(raw_pkt)>ZERO_TRESH \n",
    "bit_loc = np.where(tx == True)[0] #locations where value non-zero\n",
    "start_tx = bit_loc[0] - SMPL_BUFF #I know this is dangerous but I'm a badass\n",
    "#Find end of bit\n",
    "diff_msg_loc = np.roll(bit_loc, 1)\n",
    "diff_msg_loc[0] = bit_loc[0]\n",
    "temp = np.where((bit_loc - diff_msg_loc) > BLENG_EST)[0]\n",
    "end_tx = bit_loc[temp[0]] #- BLENG_EST + SMPL_BUFF\n",
    "\n",
    "print(start_tx, end_tx)\n",
    "raw_bit = raw_pkt[start_tx:end_tx]\n",
    "x_raw_bit = x_raw_pkt[start_tx:end_tx]\n",
    "\n",
    "\n",
    "\n",
    "plt.figure()\n",
    "plt.plot(x_raw_bit, raw_bit.real, x_raw_bit, raw_bit.imag)\n",
    "plt.show()\n",
    "\n",
    "plt.figure()\n",
    "plt.xlim(-1,1)\n",
    "plt.ylim(-1,1)\n",
    "symb = np.sum(raw_bit)\n",
    "symb = symb / abs(symb)\n",
    "plt.scatter(symb.real, symb.imag)\n",
    "plt.show()\n",
    "\n",
    "\n",
    "print(\"Bit Start in time:\", x_raw_pkt[start_tx+SMPL_BUFF])\n",
    "print(\"Bit End in time:\", x_raw_pkt[end_tx-SMPL_BUFF])\n",
    "   "
   ]
  },
  {
   "cell_type": "code",
   "execution_count": 8,
   "metadata": {},
   "outputs": [
    {
     "data": {
      "application/vnd.jupyter.widget-view+json": {
       "model_id": "028c836d6a1d469eb2bc6acc8ae60b07",
       "version_major": 2,
       "version_minor": 0
      },
      "text/plain": [
       "Canvas(toolbar=Toolbar(toolitems=[('Home', 'Reset original view', 'home', 'home'), ('Back', 'Back to previous …"
      ]
     },
     "metadata": {},
     "output_type": "display_data"
    },
    {
     "data": {
      "text/plain": [
       "[<matplotlib.lines.Line2D at 0x7f9104b58e50>]"
      ]
     },
     "execution_count": 8,
     "metadata": {},
     "output_type": "execute_result"
    }
   ],
   "source": [
    "#I want to see what this looks like in freq domain\n",
    "N = 630000000\n",
    "fft_pkt = fft.fft(raw_pkt)\n",
    "#fft_pkt = fft.fft(np.cos(2*np.pi*T*5000))\n",
    "\n",
    "\n",
    "plt.figure(9)\n",
    "xf = fft.fftfreq(raw_pkt.size, d=1/fs)\n",
    "plt.plot(xf, fft_pkt)\n"
   ]
  },
  {
   "cell_type": "code",
   "execution_count": 6,
   "metadata": {},
   "outputs": [],
   "source": [
    "def isolateBitThresh(pkt):\n",
    "    BLENG_EST = 500     #Bit length estimate in samples\n",
    "    ZERO_TRESH = .05    #Determined graphically. Threshold to determine b/t zero and non-zero\n",
    "    SMPL_BUFF = 0 # buffer to add at the end of the bit for optimal viewing\n",
    "\n",
    "    #pkt = pkt[start:]    #TODO needs to be made more efficient\n",
    "    tx =abs(pkt)>ZERO_TRESH \n",
    "    bit_loc = np.where(tx == True)[0] #locations where value non-zero\n",
    "    start_tx = bit_loc - SMPL_BUFF #I know this is dangerous but I'm a badass\n",
    "    end_tx = bit_loc + BLENG_EST + SMPL_BUFF\n",
    "    bit_bounds = [start_tx, end_tx]\n",
    "    return (start_tx, end_tx)\n"
   ]
  },
  {
   "cell_type": "code",
   "execution_count": 17,
   "metadata": {},
   "outputs": [
    {
     "name": "stdout",
     "output_type": "stream",
     "text": [
      "(-0.9379883+0.8691406j)\n",
      "Warning: Cannot change to a different GUI toolkit: notebook. Using widget instead.\n"
     ]
    },
    {
     "data": {
      "application/vnd.jupyter.widget-view+json": {
       "model_id": "91935b9467cb4880a87eac688591f18f",
       "version_major": 2,
       "version_minor": 0
      },
      "text/plain": [
       "Canvas(toolbar=Toolbar(toolitems=[('Home', 'Reset original view', 'home', 'home'), ('Back', 'Back to previous …"
      ]
     },
     "metadata": {},
     "output_type": "display_data"
    },
    {
     "name": "stdout",
     "output_type": "stream",
     "text": [
      "Angle:  110.23011228843018 Raw:  (-0.3457913843470033+0.9383114187258851j)\n",
      "Angle:  110.58534742800123 Raw:  (-0.35160225313130766+0.9361494835724622j)\n",
      "Angle:  111.72807253201772 Raw:  (-0.3702019489166574+0.928951299594499j)\n",
      "Angle:  112.9360210107854 Raw:  (-0.38970300886841946+0.9209405870515756j)\n",
      "Angle:  114.19193980983528 Raw:  (-0.4097947155949258+0.9121777738305588j)\n",
      "Angle:  115.35893291483785 Raw:  (-0.4282875524223257+0.9036425025639805j)\n",
      "Angle:  116.58599140756407 Raw:  (-0.447540457268454+0.8942636854462688j)\n",
      "Angle:  117.77181128603488 Raw:  (-0.465951382571781+0.8848103237866553j)\n",
      "Angle:  118.98829237014793 Raw:  (-0.4846308932316615+0.8747187532718628j)\n",
      "Angle:  120.15897485191037 Raw:  (-0.5024009763131574+0.8646347546794464j)\n"
     ]
    },
    {
     "data": {
      "application/vnd.jupyter.widget-view+json": {
       "model_id": "8d39229f09e547a7b4b64005aa57d968",
       "version_major": 2,
       "version_minor": 0
      },
      "text/plain": [
       "Canvas(toolbar=Toolbar(toolitems=[('Home', 'Reset original view', 'home', 'home'), ('Back', 'Back to previous …"
      ]
     },
     "metadata": {},
     "output_type": "display_data"
    },
    {
     "name": "stdout",
     "output_type": "stream",
     "text": [
      "500\n",
      "500\n",
      "500\n",
      "500\n",
      "500\n",
      "500\n",
      "500\n",
      "500\n",
      "500\n"
     ]
    }
   ],
   "source": [
    "#Get symbol bounds\n",
    "bounds = isolateBitThresh(raw_pkt)\n",
    "\n",
    "#Get Symbols\n",
    "symb = np.empty(bounds[0].size, dtype=complex)\n",
    "for i in range(bounds[0].size):\n",
    "    #integrate and dump\n",
    "    #print(raw_pkt[bounds[0][i]:bounds[1][i]])\n",
    "    temp = raw_pkt[bounds[0][i]:bounds[1][i]]\n",
    "    symb[i] = np.sum(temp)\n",
    "    symb[i] = symb[i] / abs(symb[i])\n",
    "\n",
    "print(np.sum(raw_pkt[bounds[0][i]:bounds[1][i]]))\n",
    "#By examining bounds, it is apparent that the function isolateBitThreshold doesn't do a good job identifying\n",
    "#the bit start locations.\n",
    "%matplotlib notebook\n",
    "plt.figure(6)\n",
    "plt.xlim(-1.5, 1.5)\n",
    "plt.ylim(-1.5, 1.5)\n",
    "for i in range(10):\n",
    "    print(\"Angle: \", np.angle(symb[i], deg=True), \"Raw: \", symb[i])\n",
    "    plt.scatter(symb[i].real, symb[i].imag)\n",
    "plt.show()\n",
    "\n",
    "plt.figure(7)\n",
    "const = 10\n",
    "for i in range(9):\n",
    "    plt_num = 9*100 + 10 + i+1\n",
    "    plt.subplot(plt_num)\n",
    "    symbs = raw_pkt[bounds[0][i+const]:bounds[1][i+const]]\n",
    "    print(symbs.size)\n",
    "    plt.plot(range(symbs.size), symbs.real, range(symbs.size), symbs.imag)"
   ]
  },
  {
   "cell_type": "code",
   "execution_count": 8,
   "metadata": {},
   "outputs": [
    {
     "name": "stdout",
     "output_type": "stream",
     "text": [
      "Angle:  110.23011228843018 Raw:  (-0.3457913843470033+0.9383114187258851j)\n",
      "Angle:  -71.55101306406519 Raw:  (0.31646019464420316-0.948605790202523j)\n",
      "Angle:  178.54471131225134 Raw:  (-0.9996774480304919+0.025396848214752216j)\n",
      "Angle:  54.00792644197148 Raw:  (0.5876733252261878+0.8090983023203024j)\n",
      "Angle:  -56.75316871733398 Raw:  (0.54824697825146-0.8363164776794387j)\n",
      "Angle:  117.31202311974425 Raw:  (-0.4588360145138036+0.8885209686805869j)\n",
      "Angle:  -114.50006288871356 Raw:  (-0.4146942414432332-0.9099608157024243j)\n",
      "Angle:  58.99619283344329 Raw:  (0.5150950304757114+0.8571330757701665j)\n",
      "Angle:  -53.243270496359116 Raw:  (0.5984187053027566-0.8011835327462568j)\n"
     ]
    },
    {
     "data": {
      "application/vnd.jupyter.widget-view+json": {
       "model_id": "0cb9e2fa47754d9f877a737ab59ac9a8",
       "version_major": 2,
       "version_minor": 0
      },
      "text/plain": [
       "Canvas(toolbar=Toolbar(toolitems=[('Home', 'Reset original view', 'home', 'home'), ('Back', 'Back to previous …"
      ]
     },
     "metadata": {},
     "output_type": "display_data"
    },
    {
     "name": "stdout",
     "output_type": "stream",
     "text": [
      "(array([  6,  11,  11, ..., 106, 106, 106]), array([268, 352, 377, ..., 497, 498, 499]))\n"
     ]
    }
   ],
   "source": [
    "#Using a loop method to do integrate and dump based on the bit sizes\n",
    "def isolateBitThreshLoop(pkt):\n",
    "    BLENG_EST = 500     #Bit length estimate in samples\n",
    "    ZERO_TRESH = .05    #Determined graphically. Threshold to determine b/t zero and non-zero\n",
    "    SMPL_BUFF = 6 # buffer to add at the end of the bit for optimal viewing\n",
    "    \n",
    "    tx =abs(pkt)>ZERO_TRESH\n",
    "    symbs = np.empty([int (tx.size/BLENG_EST), BLENG_EST], dtype=complex)\n",
    "    #print(pkt[0:0+BLENG_EST])\n",
    "    x = 0; #symbs array iterator\n",
    "    i = 0\n",
    "    while tx.size > i:\n",
    "        if (True == tx[i]):\n",
    "            #symbs[x] = np.sum(pkt[i:i+BLENG_EST])\n",
    "            #symbs[x] = symbs[x] / abs(symbs[x])\n",
    "            symbs[x] = pkt[i:i+BLENG_EST]\n",
    "            \n",
    "            x += 1\n",
    "            i = i + BLENG_EST + SMPL_BUFF\n",
    "            \n",
    "        else:\n",
    "            i += 1\n",
    "    return symbs\n",
    "\n",
    "symbs = isolateBitThreshLoop(raw_pkt)\n",
    "\n",
    "plt.figure(7)\n",
    "plt.xlim(-2, 2)\n",
    "plt.ylim(-2, 2)\n",
    "for i in range(9):\n",
    "    symb = np.sum(symbs[i])\n",
    "    symb = symb / abs(symb)\n",
    "    print(\"Angle: \", np.angle(symb, deg=True), \"Raw: \", symb)\n",
    "    plt.scatter(symb.real, symb.imag)\n",
    "plt.show()\n",
    "\n",
    "plt.figure(8)\n",
    "const = 10\n",
    "for i in range(9):\n",
    "    plt_num = 9*100 + 10 + i+1\n",
    "    plt.subplot(plt_num)\n",
    "    plt.plot(range(symbs[i+const].size), symbs[i+const].real, range(symbs[i+const].size), symbs[i+const].imag)\n",
    "\n",
    "\n",
    "print(np.where(symbs==False))"
   ]
  },
  {
   "cell_type": "code",
   "execution_count": 19,
   "metadata": {},
   "outputs": [],
   "source": [
    "#LPF fx. 5th order BW filter\n",
    "#f_cutoff is the cutoff freq for the lpf\n",
    "def lpf(data, fs, f_cutoff):\n",
    "    sos = sig.butter(15, f_cutoff, 'lp', fs=fs, output='sos')\n",
    "    filtered = sig.sosfilt(sos, raw0)\n",
    "\n",
    "    return filtered"
   ]
  },
  {
   "cell_type": "code",
   "execution_count": 51,
   "metadata": {},
   "outputs": [
    {
     "name": "stdout",
     "output_type": "stream",
     "text": [
      "3791461 3791461\n"
     ]
    },
    {
     "data": {
      "application/vnd.jupyter.widget-view+json": {
       "model_id": "d0c29281c59b42919798f9e567764c16",
       "version_major": 2,
       "version_minor": 0
      },
      "text/plain": [
       "Canvas(toolbar=Toolbar(toolitems=[('Home', 'Reset original view', 'home', 'home'), ('Back', 'Back to previous …"
      ]
     },
     "metadata": {},
     "output_type": "display_data"
    },
    {
     "name": "stdout",
     "output_type": "stream",
     "text": [
      "-2.3599999999998622e-05\n",
      "-3.470000000000556e-05\n",
      "-3.4800000000001496e-05\n",
      "-4.309999999999731e-05\n"
     ]
    }
   ],
   "source": [
    "rawf = lpf(raw, fs, 45000)\n",
    "print(rawf.size, raw.size)\n",
    "#Tpkt = np.linspace(0.0, rawf_pkt.size/fs, rawf_pkt.size)\n",
    "plt.figure()\n",
    "plt.plot(T, rawf.real+rawf.imag, T, raw.real+raw.imag) #Tpkt, raw_pkt.real+raw_pkt.imag)\n",
    "plt.show()\n",
    "\n",
    "print(.0449294-.044953)\n",
    "print(.0450475-.0450822)\n",
    "print(.0451322-.045167)\n",
    "print(.0451753-.0452184)\n"
   ]
  },
  {
   "cell_type": "code",
   "execution_count": 49,
   "metadata": {},
   "outputs": [
    {
     "data": {
      "application/vnd.jupyter.widget-view+json": {
       "model_id": "154417ad47c64d5989f523dd46ed3eff",
       "version_major": 2,
       "version_minor": 0
      },
      "text/plain": [
       "Canvas(toolbar=Toolbar(toolitems=[('Home', 'Reset original view', 'home', 'home'), ('Back', 'Back to previous …"
      ]
     },
     "metadata": {},
     "output_type": "display_data"
    },
    {
     "data": {
      "text/plain": [
       "<function matplotlib.pyplot.show(*args, **kw)>"
      ]
     },
     "execution_count": 49,
     "metadata": {},
     "output_type": "execute_result"
    }
   ],
   "source": [
    "raw_abs = np.abs(raw)\n",
    "plt.figure()\n",
    "plt.plot(T, raw_abs)"
   ]
  },
  {
   "cell_type": "code",
   "execution_count": 5,
   "metadata": {},
   "outputs": [
    {
     "data": {
      "application/vnd.jupyter.widget-view+json": {
       "model_id": "748480547cf5434fa12419ecf6e6f256",
       "version_major": 2,
       "version_minor": 0
      },
      "text/plain": [
       "Canvas(toolbar=Toolbar(toolitems=[('Home', 'Reset original view', 'home', 'home'), ('Back', 'Back to previous …"
      ]
     },
     "metadata": {},
     "output_type": "display_data"
    }
   ],
   "source": [
    "rawp = raw.real + raw.imag\n",
    "\n",
    "\n",
    "plt.figure()\n",
    "plt.plot(T, rawp, T, raw.real, T, raw.imag)\n",
    "plt.show()"
   ]
  },
  {
   "cell_type": "code",
   "execution_count": 20,
   "metadata": {},
   "outputs": [
    {
     "name": "stdout",
     "output_type": "stream",
     "text": [
      "Warning: Cannot change to a different GUI toolkit: notebook. Using widget instead.\n"
     ]
    },
    {
     "data": {
      "application/vnd.jupyter.widget-view+json": {
       "model_id": "586874fd0ba14208817d61ac4977fa3c",
       "version_major": 2,
       "version_minor": 0
      },
      "text/plain": [
       "Canvas(toolbar=Toolbar(toolitems=[('Home', 'Reset original view', 'home', 'home'), ('Back', 'Back to previous …"
      ]
     },
     "metadata": {},
     "output_type": "display_data"
    },
    {
     "name": "stdout",
     "output_type": "stream",
     "text": [
      "[]\n"
     ]
    },
    {
     "ename": "IndexError",
     "evalue": "index 0 is out of bounds for axis 0 with size 0",
     "output_type": "error",
     "traceback": [
      "\u001b[0;31m---------------------------------------------------------------------------\u001b[0m",
      "\u001b[0;31mIndexError\u001b[0m                                Traceback (most recent call last)",
      "\u001b[0;32m<ipython-input-20-8db5bf04dfc0>\u001b[0m in \u001b[0;36m<module>\u001b[0;34m\u001b[0m\n\u001b[1;32m     23\u001b[0m \u001b[0mbit_loc\u001b[0m \u001b[0;34m=\u001b[0m \u001b[0mnp\u001b[0m\u001b[0;34m.\u001b[0m\u001b[0mwhere\u001b[0m\u001b[0;34m(\u001b[0m\u001b[0mtx\u001b[0m \u001b[0;34m==\u001b[0m \u001b[0;32mTrue\u001b[0m\u001b[0;34m)\u001b[0m\u001b[0;34m[\u001b[0m\u001b[0;36m0\u001b[0m\u001b[0;34m]\u001b[0m \u001b[0;31m#locations where value non-zero\u001b[0m\u001b[0;34m\u001b[0m\u001b[0;34m\u001b[0m\u001b[0m\n\u001b[1;32m     24\u001b[0m \u001b[0mprint\u001b[0m\u001b[0;34m(\u001b[0m\u001b[0mbit_loc\u001b[0m\u001b[0;34m[\u001b[0m\u001b[0;36m0\u001b[0m\u001b[0;34m:\u001b[0m\u001b[0;36m20\u001b[0m\u001b[0;34m]\u001b[0m\u001b[0;34m)\u001b[0m\u001b[0;34m\u001b[0m\u001b[0;34m\u001b[0m\u001b[0m\n\u001b[0;32m---> 25\u001b[0;31m \u001b[0mstart_bit\u001b[0m \u001b[0;34m=\u001b[0m \u001b[0mbit_loc\u001b[0m\u001b[0;34m[\u001b[0m\u001b[0;36m0\u001b[0m\u001b[0;34m]\u001b[0m\u001b[0;34m\u001b[0m\u001b[0;34m\u001b[0m\u001b[0m\n\u001b[0m\u001b[1;32m     26\u001b[0m \u001b[0mend_bit\u001b[0m \u001b[0;34m=\u001b[0m \u001b[0mbit_loc\u001b[0m\u001b[0;34m[\u001b[0m\u001b[0;36m1\u001b[0m\u001b[0;34m]\u001b[0m \u001b[0;34m+\u001b[0m \u001b[0;36m2\u001b[0m\u001b[0;34m\u001b[0m\u001b[0;34m\u001b[0m\u001b[0m\n\u001b[1;32m     27\u001b[0m \u001b[0;34m\u001b[0m\u001b[0m\n",
      "\u001b[0;31mIndexError\u001b[0m: index 0 is out of bounds for axis 0 with size 0"
     ]
    }
   ],
   "source": [
    "#Method 2 of bit isolations using derivative\n",
    "#I have abandoned method 2 because it took too much time and method 1 works ok.\n",
    "# added a LPF IOT to make results more consistent\n",
    "\n",
    "DIFF_TRESH = .004\n",
    "\n",
    "filt_pkt = lpf(raw_pkt, fs, 246)\n",
    "diff_pkt = np.roll(filt_pkt, -1)    #diff_pkt is a copy of raw_pkt shifted 1 to the left\n",
    "\n",
    "diff_pkt[-1] = filt_pkt[-1] \n",
    "diff = filt_pkt - diff_pkt\n",
    "\n",
    "\n",
    "x_diff = range(diff.size)\n",
    "\n",
    "%matplotlib notebook\n",
    "plt.figure(6)\n",
    "plt.plot(x_diff, diff.real)\n",
    "plt.show()\n",
    "\n",
    "tx =abs(diff.real)>=DIFF_TRESH \n",
    "\n",
    "bit_loc = np.where(tx == True)[0] #locations where value non-zero\n",
    "print(bit_loc[0:20])\n",
    "start_bit = bit_loc[0] \n",
    "end_bit = bit_loc[1] + 2\n",
    "\n",
    "print(raw_pkt[1999:2010])\n",
    "print(diff_pkt[1999:2010])\n",
    "print(diff[1990:2010])\n",
    "print(bit_loc[0])\n",
    "\n",
    "plt.figure(9)\n",
    "plt.plot(range(raw_pkt[1999:2010].size), raw_pkt[1999:2010].real, label='raw_pkt-real')\n",
    "plt.plot(range(raw_pkt[1999:2010].size), raw_pkt[1999:2010].imag, label='raw_pkt-imag')\n",
    "plt.plot(range(diff_pkt[1999:2010].size), diff_pkt[1999:2010].real, label='diff_pkt-real')\n",
    "plt.plot(range(diff_pkt[1999:2010].size), diff_pkt[1999:2010].real, label='diff_pkt-real')\n",
    "plt.plot(range(diff_pkt[1999:2010].size), diff_pkt[1999:2010].imag, label='diff_pkt-imag')\n",
    "plt.plot(range(diff[1990:2010].size), diff[1990:2010].real, label='diff-real')\n",
    "plt.plot(range(diff[1990:2010].size), diff[1990:2010].imag, label='diff-imag')\n",
    "plt.legend()\n",
    "plt.show()\n",
    "\n",
    "print(raw_pkt[2000])\n",
    "print(diff_pkt[2000])\n",
    "print(diff[2000])\n",
    "\n",
    "bit_msg = filt_pkt[start_bit:end_bit]\n",
    "x_diff = range(bit_msg.size)\n",
    "\n",
    "plt.figure(7)\n",
    "plt.plot(x_diff, bit_msg.real, x_diff, bit_msg.imag)\n",
    "plt.show()\n",
    "\n",
    "plt.figure(8)\n",
    "plt.xlim(-1,1)\n",
    "plt.ylim(-1,1)\n",
    "symb = np.sum(raw_bit)\n",
    "symb = symb / abs(symb)\n",
    "plt.scatter(symb.real, symb.imag)\n",
    "plt.show"
   ]
  },
  {
   "cell_type": "code",
   "execution_count": 18,
   "metadata": {},
   "outputs": [
    {
     "data": {
      "application/vnd.jupyter.widget-view+json": {
       "model_id": "27bd0d6a9ce0407db2b9b1b16e16c4ed",
       "version_major": 2,
       "version_minor": 0
      },
      "text/plain": [
       "Canvas(toolbar=Toolbar(toolitems=[('Home', 'Reset original view', 'home', 'home'), ('Back', 'Back to previous …"
      ]
     },
     "metadata": {},
     "output_type": "display_data"
    }
   ],
   "source": [
    "#Understanding Quadrature Demod\n",
    "\n",
    "freq = 10\n",
    "t = np.arange(0, 4, .01)\n",
    "x = np.cos(freq*t + 1*np.pi/4)\n",
    "x2 =np.cos(freq*t)\n",
    "x3 = np.cos(freq*t + np.pi/4)\n",
    "x4 = np.cos(freq*t + np.pi/2)\n",
    "x5 = np.cos(freq*t + 3*np.pi/4)\n",
    "plt.figure()\n",
    "#Plot original signal\n",
    "plt.subplot(411)\n",
    "plt.plot(t, x2, t, x3, t, x4, t, x5)\n",
    "\n",
    "#Implement Quadrature demod\n",
    "comp_data = x*((np.cos(freq*t)) - 1j*np.sin(freq*t))\n",
    "plt.subplot(412)\n",
    "plt.plot(t, comp_data.real, t, comp_data.imag)\n",
    "\n",
    "#Plot Symbol\n",
    "plt.subplot(413)\n",
    "plt.xlim(-1,1)\n",
    "plt.ylim(-1,1)\n",
    "#symb = comp_data\n",
    "symb = np.sum(comp_data)\n",
    "symb = symb / abs(symb)\n",
    "plt.scatter(symb.real, symb.imag)\n",
    "\n",
    "plt.subplot(414)\n",
    "plt.plot(t, comp_data.real+comp_data.imag, t, x)\n",
    "plt.show()"
   ]
  },
  {
   "cell_type": "code",
   "execution_count": null,
   "metadata": {},
   "outputs": [],
   "source": []
  }
 ],
 "metadata": {
  "kernelspec": {
   "display_name": "Python 3",
   "language": "python",
   "name": "python3"
  },
  "language_info": {
   "codemirror_mode": {
    "name": "ipython",
    "version": 3
   },
   "file_extension": ".py",
   "mimetype": "text/x-python",
   "name": "python",
   "nbconvert_exporter": "python",
   "pygments_lexer": "ipython3",
   "version": "3.8.5"
  }
 },
 "nbformat": 4,
 "nbformat_minor": 4
}
