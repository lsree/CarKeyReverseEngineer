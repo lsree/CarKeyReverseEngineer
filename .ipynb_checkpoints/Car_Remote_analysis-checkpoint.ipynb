{
 "cells": [
  {
   "cell_type": "code",
   "execution_count": 4,
   "metadata": {},
   "outputs": [],
   "source": [
    "import numpy as np\n",
    "\n",
    "import matplotlib.pyplot as plt\n",
    "from ipywidgets import interactive, interact\n",
    "from matplotlib import animation, rc\n",
    "import ipywidgets as widgets\n",
    "%matplotlib widget\n",
    "from scipy import fftpack as fft\n",
    "from scipy import signal as sig\n",
    "import pandas as pd\n",
    "from IPython.display import display, HTML \n",
    "\n",
    "#Constants\n",
    "fs = 1000000 # Samples/seconds"
   ]
  },
  {
   "cell_type": "code",
   "execution_count": 5,
   "metadata": {},
   "outputs": [],
   "source": [
    "plt.close('all')"
   ]
  },
  {
   "cell_type": "code",
   "execution_count": 3,
   "metadata": {},
   "outputs": [],
   "source": [
    "#Import Data\n",
    "raw0 = np.fromfile(open(\"open_press.smpl\"), dtype=np.complex64)\n",
    "\n",
    "#raw0 with respect to time\n",
    "Traw = np.linspace(0.0, raw0.size/fs, raw0.size)"
   ]
  },
  {
   "cell_type": "code",
   "execution_count": 6,
   "metadata": {},
   "outputs": [],
   "source": [
    "def calcFFT(data, fs):\n",
    "    yf = fft.fft(data)\n",
    "    yf = fft.fftshift(yf)\n",
    "    xf = fft.fftfreq(data.size, 1/fs)\n",
    "    xf = fft.fftshift(xf)\n",
    "    return [xf, yf]"
   ]
  },
  {
   "cell_type": "code",
   "execution_count": 23,
   "metadata": {},
   "outputs": [
    {
     "data": {
      "application/vnd.jupyter.widget-view+json": {
       "model_id": "519edd72ee7e4e3591432319bf65ea58",
       "version_major": 2,
       "version_minor": 0
      },
      "text/plain": [
       "Canvas(toolbar=Toolbar(toolitems=[('Home', 'Reset original view', 'home', 'home'), ('Back', 'Back to previous …"
      ]
     },
     "metadata": {},
     "output_type": "display_data"
    },
    {
     "data": {
      "application/vnd.jupyter.widget-view+json": {
       "model_id": "55a520690e79448f97160356d94b381c",
       "version_major": 2,
       "version_minor": 0
      },
      "text/plain": [
       "Canvas(toolbar=Toolbar(toolitems=[('Home', 'Reset original view', 'home', 'home'), ('Back', 'Back to previous …"
      ]
     },
     "metadata": {},
     "output_type": "display_data"
    }
   ],
   "source": [
    "#Lets view raw signal and its FT\n",
    "plt.close(\"Raw Data\")\n",
    "plt.figure(\"Raw Data\")\n",
    "plt.plot(Traw, raw0.real, Traw, raw0.imag)\n",
    "plt.show()\n",
    "\n",
    "rawFFT = calcFFT(raw0, fs)\n",
    "\n",
    "plt.close(\"FFT of Raw Data\")\n",
    "plt.figure(\"FFT of Raw Data\")\n",
    "plt.plot(rawFFT[0], rawFFT[1].real, rawFFT[0], rawFFT[1].imag)\n",
    "plt.show()\n"
   ]
  },
  {
   "cell_type": "code",
   "execution_count": 24,
   "metadata": {},
   "outputs": [
    {
     "data": {
      "application/vnd.jupyter.widget-view+json": {
       "model_id": "83344dbd5c9a48279cd210e00bf5b686",
       "version_major": 2,
       "version_minor": 0
      },
      "text/plain": [
       "Canvas(toolbar=Toolbar(toolitems=[('Home', 'Reset original view', 'home', 'home'), ('Back', 'Back to previous …"
      ]
     },
     "metadata": {},
     "output_type": "display_data"
    },
    {
     "data": {
      "application/vnd.jupyter.widget-view+json": {
       "model_id": "46b944f5dc5744b3b0bfe4fa6b9139e9",
       "version_major": 2,
       "version_minor": 0
      },
      "text/plain": [
       "Canvas(toolbar=Toolbar(toolitems=[('Home', 'Reset original view', 'home', 'home'), ('Back', 'Back to previous …"
      ]
     },
     "metadata": {},
     "output_type": "display_data"
    }
   ],
   "source": [
    "#TODO: To optimize integrate this into find packets method\n",
    "\n",
    "#The FMCOMMS3 uses an automatic gain control. Haven't figured out how to config manual gain control correctly so I need to remove pre-gain correction.\n",
    "#Note: set gain to ~45dB and configure gr-iio to manual gain mode in GRC TODO: nake this work.\n",
    "\n",
    "sos = sig.butter(15, 100, 'lp', fs=fs, output='sos')\n",
    "rawf = sig.sosfilt(sos, raw0)\n",
    "gain_set =abs(rawf)>.005  \n",
    "gain_set_loc = np.argmax(gain_set)\n",
    "raw = raw0[gain_set_loc:]\n",
    "\n",
    "#Show successful isolation. New dataset is in orange\n",
    "plt.close(\"Remove FMCOMMS Gain Instability\")\n",
    "plt.figure(\"Remove FMCOMMS Gain Instability\")\n",
    "plt.plot(Traw, raw0.real, Traw[gain_set_loc:], raw.real)\n",
    "plt.show()\n",
    "\n",
    "T = np.linspace(0.0, raw.size/fs, raw.size)\n",
    "#Plot with new time reference\n",
    "plt.close(\"Received Broadcast Plotted Over Time\")\n",
    "plt.figure(\"Received Broadcast Plotted Over Time\")\n",
    "plt.plot(T, raw.real, T, raw.imag)\n",
    "plt.show()\n"
   ]
  },
  {
   "cell_type": "code",
   "execution_count": 25,
   "metadata": {},
   "outputs": [
    {
     "name": "stdout",
     "output_type": "stream",
     "text": [
      "PKT Start in time: 0.044438011136349743\n",
      "PKT End in time is about: 0.0941330235901258\n"
     ]
    },
    {
     "data": {
      "application/vnd.jupyter.widget-view+json": {
       "model_id": "86ce5e907e0d498696d97ee40c4507ee",
       "version_major": 2,
       "version_minor": 0
      },
      "text/plain": [
       "Canvas(toolbar=Toolbar(toolitems=[('Home', 'Reset original view', 'home', 'home'), ('Back', 'Back to previous …"
      ]
     },
     "metadata": {},
     "output_type": "display_data"
    },
    {
     "name": "stdout",
     "output_type": "stream",
     "text": [
      "Dominant Freq is: 5791.973181860509\n"
     ]
    }
   ],
   "source": [
    "#Now that we can hypothosize that the remote sends a same/similar message the longer the button is pressed, we can \n",
    "#isolatethe message based on the first occurence \n",
    "#Maybe optimal method is to use derivative like what is used to isolate bits\n",
    "\n",
    "def isolatePacket(raw_data):\n",
    "    SMPL_BUFF = 2000 # buffer to \n",
    "    PCKT_SIZE_EST = 50000\n",
    "    tx =abs(raw_data)>.05  \n",
    "    msg_loc = np.where(tx == True)[0] #locatoins where value non-zero\n",
    "    start_tx = msg_loc[0] - SMPL_BUFF #I know this is dangerous but I'm a badass\n",
    "    \n",
    "    #find end of packet\n",
    "    diff_msg_loc = np.roll(msg_loc, 1)\n",
    "    diff_msg_loc[0] = msg_loc[0]\n",
    "    temp = np.where((msg_loc - diff_msg_loc) > PCKT_SIZE_EST)[0]\n",
    "    end_tx = msg_loc[temp[0]] - PCKT_SIZE_EST + SMPL_BUFF\n",
    "    \n",
    "    return [start_tx, end_tx]\n",
    "\n",
    "\n",
    "pkt_size = isolatePacket(raw)\n",
    "raw_pkt = raw[pkt_size[0]:pkt_size[1]]\n",
    "x_raw_pkt = T[pkt_size[0]:pkt_size[1]] #For plotting in time\n",
    "#x_raw_pkt = range(raw_pkt.real.size)\n",
    "\n",
    "print(\"PKT Start in time:\", T[pkt_size[0]+2000])\n",
    "print(\"PKT End in time is about:\", T[pkt_size[1]-2000])\n",
    "\n",
    "plt.close(\"Isolated Packet\")\n",
    "plt.figure(\"Isolated Packet\")\n",
    "plt.plot(x_raw_pkt, raw_pkt.real, x_raw_pkt, raw_pkt.imag)\n",
    "plt.show()\n",
    "\n",
    "#Find dominant frequency/ carrier freq? Not sure if that's the right term\n",
    "raw_pktFFT = calcFFT(raw_pkt, fs)\n",
    "temp = np.max(np.abs(raw_pktFFT[1]))\n",
    "F0_index = np.where(np.abs(raw_pktFFT[1]) == temp)\n",
    "F0 = raw_pktFFT[0][(F0_index[0])][0]\n",
    "print(\"Dominant Freq is:\", F0)"
   ]
  },
  {
   "cell_type": "markdown",
   "metadata": {},
   "source": [
    "## Initial Analysis of packets\n",
    "### Packet Makeup\n",
    "Each packet seems to consist of a preamble followed by a message body. In phase (I) and quadrature (Q) seems to be out of phase by a consistent amount. Looks like 90 degree phase difference. \n",
    "#### Preamble Data\n",
    "The preamble consists of 6 pulses.\n",
    "\n",
    "| Pulse # | Periods | Positive Phase Angle (<180deg) | Time difference b/t I and Q | Pulse Frequency |\n",
    "| ------- | ------- | ------------------------------ | --------------------------- | --------------- |\n",
    "| 1       | 1.5     | +                              | .0000376                    |\n",
    "| 2       | 3       | +                              | .0000439                    |\n",
    "| 3       | 2.5     | +                              | .0000461                    |\n",
    "| 4       | 2.5     | -                              | .0000438                    | 5792 |\n",
    "| 5       | 3       | -                              | .0000439                    | 5792 |\n",
    "| 6       | 1.5     | +                              | .0000427                    | 5733 |\n",
    "\n",
    "\n",
    "Average time difference in phase b/t I and Q is 440.8 (excluding Pulse 1 outlier). Frequency of pulses appears to be ~5792 Hz. I stopped measuring because it's smarter to just look at where the max FFT value occurs. Max off FFT put dominant freq at 5.791 kHz. This is in line with manual calculations. The phase can difference b/t I and Q data is estimated to be 91.9 degrees. Basically 90 degrees. I guess this should've been assumed because of the definition of quadrature. \n",
    "\n",
    "If the protocol is anything like CAN, SPI, I2C, I assume that the preamble contains some sort of address.\n",
    "\n",
    "#### Body Data\n",
    "Body conisists of 58 pulses. Each pulse seems to vary in number of periods. In addition, the length of time b/t each pulse seems to vary as well. Table includes first 6 pulses. I don't feel like manually categorizing them all.\n",
    "\n",
    "| Pulse # | Periods | Positive Phase Angle (<180deg) |\n",
    "| ------- | ------- | ------------------------------ |\n",
    "| 1       | 1.5     | -                              |\n",
    "| 2       | 3       | -                              |\n",
    "| 3       | 2.5     | -                              |\n",
    "| 4       | 3       | +                              |\n",
    "| 5       | 3       | -                              |\n",
    "| 6       | 1.5     | +                              |\n",
    "\n",
    "#### Hypotheses\n",
    "* BPSK: Bits values are encoded into the phase of the incoming signal\n",
    "    * The phase differences allude to a BPSK scheme\n",
    "* ASK (Amplitude Shift-Keying): Bit values are determined by time, similar to electrical signals. \n",
    "    * The periodic differences allude to time encoding method\n",
    "    * TBH I think that this is the most likely cast given that a car key is a low cost device. It seems cheapest to decode.\n",
    "    * ON/OFF keying\n",
    "    * this also accounts for the differences in phases. \n",
    "\n",
    "### Decoding Courses of Action\n",
    "How do I prove / disprove each hypothesis?\n",
    "#### ASK\n",
    "Since this is the most likely COA, it will be the first I explore\n",
    "1. Demod to squarish wave and determine duration of each pulse/bit\n",
    "    * LPF/Integrate\n",
    "    * Mix w/ baseband freq - this poses the problem of needing to synch phase. However the pro is that the bit times would be more accurate.\n",
    "1. Convert pulses to bits\n",
    "    * Integrate and Dump\n",
    "    * LPF the entire thing and then use bit timing\n",
    "    * LPF and identify time intervals.\n",
    "    * I guess both ways mentioned above are essentially the same. LPF and integrate are basically the same thing I'm pretty sure. It just comes down to which is less computationally intensive. (Kids this is why you don't join the army. It makes you stupid and forget things you learnt sophomore year of college.)\n",
    "1. Compare periods/time of each pulse accross multiple packets of the same button press\n",
    "1. Compare periods/time of each pulse accross multiple packets with different button presses\n",
    "\n",
    "#### BPSK\n",
    "1. Determine phase of each pulse\n",
    "1. Compare phase accross multiple packets of the same button press\n",
    "1. Compare phase accross multiple packets with different button presses\n",
    "\n"
   ]
  },
  {
   "cell_type": "code",
   "execution_count": 7,
   "metadata": {},
   "outputs": [],
   "source": [
    "#Function implementation of above method to remove the noisy start before AGC corrects\n",
    "def AGC_Correct(raw, fs):\n",
    "    sos = sig.butter(15, 200, 'lp', fs=fs, output='sos')\n",
    "    rawf = sig.sosfilt(sos, raw)\n",
    "    rawf = rawf[10000:] #Discard 1st 10k samples b/c LPF needs to become stable\n",
    "    gain_set =abs(rawf) < .025  \n",
    "    gain_set_loc = np.argmax(gain_set)\n",
    "\n",
    "    return raw[gain_set_loc+10000:]"
   ]
  },
  {
   "cell_type": "code",
   "execution_count": 8,
   "metadata": {},
   "outputs": [
    {
     "data": {
      "application/vnd.jupyter.widget-view+json": {
       "model_id": "e5fe699ff5ca46da85d2978f6d4428f6",
       "version_major": 2,
       "version_minor": 0
      },
      "text/plain": [
       "Canvas(toolbar=Toolbar(toolitems=[('Home', 'Reset original view', 'home', 'home'), ('Back', 'Back to previous …"
      ]
     },
     "metadata": {},
     "output_type": "display_data"
    }
   ],
   "source": [
    "\n",
    "#If the key uses on/off keying then we don't care about complex values. I used the complex to Mag block in GRC to get a float version of the key data\n",
    "rawfl = np.fromfile(open(\"open_press_mag.smpl\"), dtype=np.float32)\n",
    "\n",
    "\n",
    "#Isolate part where FMCOMMS gain is all F'ed up\n",
    "rawflt = AGC_Correct(rawfl, fs) \n",
    "Tflt = np.linspace(0.0, rawflt.size/fs, rawflt.size) #rawflt with respect to time\n",
    "\n",
    "rawflt /= rawflt.max() #Normalize\n",
    "\n",
    "plt.close(\"Real Value Transmission\")\n",
    "plt.figure(\"Real Value Transmission\")\n",
    "plt.plot(Tflt, rawflt)\n",
    "plt.show()"
   ]
  },
  {
   "cell_type": "markdown",
   "metadata": {},
   "source": [
    "It's pretty clear from the magnitude plot that this is ON/OFF keying. Wow I feel stupid for spending this much time analyzing the complex data and thinking it might be BPSK. Lesson learned is to start by looking at the magnitude/float data before looking at the complex data. \n",
    "\n",
    "Next step is to find the baud rate. I presume the easiest way to do this is to look at the FFT and find the freq w/ highest gain."
   ]
  },
  {
   "cell_type": "code",
   "execution_count": 9,
   "metadata": {},
   "outputs": [
    {
     "name": "stdout",
     "output_type": "stream",
     "text": [
      "Dominant Frequency:  -9.99528370687313\n"
     ]
    },
    {
     "data": {
      "application/vnd.jupyter.widget-view+json": {
       "model_id": "155cc81a779443a3b84729e9b6ca4340",
       "version_major": 2,
       "version_minor": 0
      },
      "text/plain": [
       "Canvas(toolbar=Toolbar(toolitems=[('Home', 'Reset original view', 'home', 'home'), ('Back', 'Back to previous …"
      ]
     },
     "metadata": {},
     "output_type": "display_data"
    }
   ],
   "source": [
    "plt.close('FFT of Real Car Key Transmission')\n",
    "rawFFT = calcFFT(rawflt, fs)\n",
    "#Zero out DC Component\n",
    "dc_index = np.int(np.size(rawFFT[0])/2)\n",
    "rawFFT[1][dc_index] = 0 # Zero out DC component\n",
    "baudrate_mag = np.argmax(abs(rawFFT[1]))\n",
    "baudrate = rawFFT[0][baudrate_mag]\n",
    "print(\"Dominant Frequency: \", baudrate)\n",
    "\n",
    "plt.figure(\"FFT of Real Car Key Transmission\")\n",
    "plt.plot(rawFFT[0], rawFFT[1].real)\n",
    "plt.show()"
   ]
  },
  {
   "cell_type": "markdown",
   "metadata": {},
   "source": [
    "My previous assumption that the dominant frequency would be the baud rate is incorrect. 10Hz is too slow to be the baud rate. Instead 10Hz probably refers to the packet transmission rate. When the key button is pressed, the key transmits the same packet at 10Hz. This was confirmed visually\n",
    "\n",
    "I'll attempt to calculate the baud rate by taking the differential of the received real signal. I'll do this by subtracting the original signal from the original shifted 2 samples. The instantaneous changes that occur when a bit changes from 0 to 1 should show up as spikes. I'm shifting by 2 samples because after graphical analysis of the bit rise time, it looks like it takes 2 samples for a bit to go from 0 to 1."
   ]
  },
  {
   "cell_type": "code",
   "execution_count": 10,
   "metadata": {},
   "outputs": [
    {
     "data": {
      "application/vnd.jupyter.widget-view+json": {
       "model_id": "05be179db6ed4ecaa50207c0a0ff622f",
       "version_major": 2,
       "version_minor": 0
      },
      "text/plain": [
       "Canvas(toolbar=Toolbar(toolitems=[('Home', 'Reset original view', 'home', 'home'), ('Back', 'Back to previous …"
      ]
     },
     "metadata": {},
     "output_type": "display_data"
    },
    {
     "data": {
      "application/vnd.jupyter.widget-view+json": {
       "model_id": "5eddad5ee89d4622ad868d1a4cca4dcf",
       "version_major": 2,
       "version_minor": 0
      },
      "text/plain": [
       "Canvas(toolbar=Toolbar(toolitems=[('Home', 'Reset original view', 'home', 'home'), ('Back', 'Back to previous …"
      ]
     },
     "metadata": {},
     "output_type": "display_data"
    },
    {
     "data": {
      "text/html": [
       "<div>\n",
       "<style scoped>\n",
       "    .dataframe tbody tr th:only-of-type {\n",
       "        vertical-align: middle;\n",
       "    }\n",
       "\n",
       "    .dataframe tbody tr th {\n",
       "        vertical-align: top;\n",
       "    }\n",
       "\n",
       "    .dataframe thead th {\n",
       "        text-align: right;\n",
       "    }\n",
       "</style>\n",
       "<table border=\"1\" class=\"dataframe\">\n",
       "  <thead>\n",
       "    <tr style=\"text-align: right;\">\n",
       "      <th></th>\n",
       "      <th>0</th>\n",
       "      <th>1</th>\n",
       "      <th>2</th>\n",
       "      <th>3</th>\n",
       "      <th>4</th>\n",
       "      <th>5</th>\n",
       "      <th>6</th>\n",
       "      <th>7</th>\n",
       "      <th>8</th>\n",
       "      <th>9</th>\n",
       "      <th>...</th>\n",
       "      <th>90</th>\n",
       "      <th>91</th>\n",
       "      <th>92</th>\n",
       "      <th>93</th>\n",
       "      <th>94</th>\n",
       "      <th>95</th>\n",
       "      <th>96</th>\n",
       "      <th>97</th>\n",
       "      <th>98</th>\n",
       "      <th>99</th>\n",
       "    </tr>\n",
       "  </thead>\n",
       "  <tbody>\n",
       "    <tr>\n",
       "      <th>0</th>\n",
       "      <td>0.0</td>\n",
       "      <td>0.0</td>\n",
       "      <td>0.0</td>\n",
       "      <td>0.0</td>\n",
       "      <td>0.0</td>\n",
       "      <td>0.0</td>\n",
       "      <td>0.0</td>\n",
       "      <td>0.0</td>\n",
       "      <td>0.0</td>\n",
       "      <td>0.0</td>\n",
       "      <td>...</td>\n",
       "      <td>0.0</td>\n",
       "      <td>0.0</td>\n",
       "      <td>0.0</td>\n",
       "      <td>0.0</td>\n",
       "      <td>0.0</td>\n",
       "      <td>0.0</td>\n",
       "      <td>0.0</td>\n",
       "      <td>0.0</td>\n",
       "      <td>0.0</td>\n",
       "      <td>0.0</td>\n",
       "    </tr>\n",
       "    <tr>\n",
       "      <th>1</th>\n",
       "      <td>20.0</td>\n",
       "      <td>25.8</td>\n",
       "      <td>31.6</td>\n",
       "      <td>37.4</td>\n",
       "      <td>43.2</td>\n",
       "      <td>49.0</td>\n",
       "      <td>54.8</td>\n",
       "      <td>60.6</td>\n",
       "      <td>66.4</td>\n",
       "      <td>72.2</td>\n",
       "      <td>...</td>\n",
       "      <td>542.0</td>\n",
       "      <td>547.8</td>\n",
       "      <td>553.6</td>\n",
       "      <td>559.4</td>\n",
       "      <td>565.2</td>\n",
       "      <td>571.0</td>\n",
       "      <td>576.8</td>\n",
       "      <td>582.6</td>\n",
       "      <td>588.4</td>\n",
       "      <td>594.2</td>\n",
       "    </tr>\n",
       "  </tbody>\n",
       "</table>\n",
       "<p>2 rows × 100 columns</p>\n",
       "</div>"
      ],
      "text/plain": [
       "     0     1     2     3     4     5     6     7     8     9   ...     90  \\\n",
       "0   0.0   0.0   0.0   0.0   0.0   0.0   0.0   0.0   0.0   0.0  ...    0.0   \n",
       "1  20.0  25.8  31.6  37.4  43.2  49.0  54.8  60.6  66.4  72.2  ...  542.0   \n",
       "\n",
       "      91     92     93     94     95     96     97     98     99  \n",
       "0    0.0    0.0    0.0    0.0    0.0    0.0    0.0    0.0    0.0  \n",
       "1  547.8  553.6  559.4  565.2  571.0  576.8  582.6  588.4  594.2  \n",
       "\n",
       "[2 rows x 100 columns]"
      ]
     },
     "metadata": {},
     "output_type": "display_data"
    }
   ],
   "source": [
    "diff = np.roll(rawflt, -2)    #diff is a copy of rawflt shifted 2 to the left\n",
    "diff = rawflt - diff\n",
    "\n",
    "plt.close(\"Differential of Real Signal\")\n",
    "plt.figure(\"Differential of Real Signal\")\n",
    "plt.plot(Tflt, rawflt, Tflt, abs(diff)>.5)\n",
    "plt.show()\n",
    "\n",
    "temp = np.where(abs(diff)>.5)\n",
    "#bit_times = Tflt[temp] - np.roll(Tflt[temp], -1)\n",
    "bit_times = abs(temp[0] - np.roll(temp[0], -1))\n",
    "bit_times[0] = 0\n",
    "#np.savetxt(\"bit_transitions.csv\", np.column_stack((temp[0], bit_times)), delimiter=',')\n",
    "\n",
    "\n",
    "plt.close(\"Dist of Bit Times in Samples\")\n",
    "plt.figure(\"Dist of Bit Times in Samples\")\n",
    "bins= plt.hist(bit_times, bins=100, range=(20, 600))\n",
    "plt.show()\n",
    "\n",
    "bins = np.array([bins[0],bins[1]])\n",
    "bins = [bins[0], bins[1][0:-1]]\n",
    "np.savetxt(\"bit_hist.csv\", np.column_stack((bins[0], bins[1])), delimiter=',')\n",
    "bin_table = pd.DataFrame(bins)\n",
    "display(bin_table)"
   ]
  },
  {
   "cell_type": "markdown",
   "metadata": {},
   "source": [
    "I had originally assumed that each bit value was determined soley if the signal was HIGH or LOW at a specified time (kind of like I2C where the bit value of the data signal is recorded when the clock signal transitions from LOW to HIGH). After examining the histogram of bit times and looking again at the real signal, it looks like manchester encoding is used. The majority of bit transitions took ~250 samples and ~500 samples. This lines up with the enoding scheme. The signal will take twice as long to transition from HIGH to LOW or vice versa when the bit value changes than it would take if the bit value stayed the same. This hypothesis also makes sense b/c is allows the receiver to self-synchronize quite easily. The wikipedia article also mentioned that manchester encoding is commonly used in consumer IR protocols. "
   ]
  },
  {
   "cell_type": "code",
   "execution_count": 19,
   "metadata": {},
   "outputs": [],
   "source": [
    "#LPF fx. 5th order BW filter\n",
    "#f_cutoff is the cutoff freq for the lpf\n",
    "def lpf(data, fs, f_cutoff):\n",
    "    sos = sig.butter(15, f_cutoff, 'lp', fs=fs, output='sos')\n",
    "    filtered = sig.sosfilt(sos, raw0)\n",
    "\n",
    "    return filtered"
   ]
  },
  {
   "cell_type": "code",
   "execution_count": 18,
   "metadata": {},
   "outputs": [
    {
     "data": {
      "application/vnd.jupyter.widget-view+json": {
       "model_id": "27bd0d6a9ce0407db2b9b1b16e16c4ed",
       "version_major": 2,
       "version_minor": 0
      },
      "text/plain": [
       "Canvas(toolbar=Toolbar(toolitems=[('Home', 'Reset original view', 'home', 'home'), ('Back', 'Back to previous …"
      ]
     },
     "metadata": {},
     "output_type": "display_data"
    }
   ],
   "source": [
    "#Understanding Quadrature Demod\n",
    "\n",
    "freq = 10\n",
    "t = np.arange(0, 4, .01)\n",
    "x = np.cos(freq*t + 1*np.pi/4)\n",
    "x2 =np.cos(freq*t)\n",
    "x3 = np.cos(freq*t + np.pi/4)\n",
    "x4 = np.cos(freq*t + np.pi/2)\n",
    "x5 = np.cos(freq*t + 3*np.pi/4)\n",
    "plt.figure()\n",
    "#Plot original signal\n",
    "plt.subplot(411)\n",
    "plt.plot(t, x2, t, x3, t, x4, t, x5)\n",
    "\n",
    "#Implement Quadrature demod\n",
    "comp_data = x*((np.cos(freq*t)) - 1j*np.sin(freq*t))\n",
    "plt.subplot(412)\n",
    "plt.plot(t, comp_data.real, t, comp_data.imag)\n",
    "\n",
    "#Plot Symbol\n",
    "plt.subplot(413)\n",
    "plt.xlim(-1,1)\n",
    "plt.ylim(-1,1)\n",
    "#symb = comp_data\n",
    "symb = np.sum(comp_data)\n",
    "symb = symb / abs(symb)\n",
    "plt.scatter(symb.real, symb.imag)\n",
    "\n",
    "plt.subplot(414)\n",
    "plt.plot(t, comp_data.real+comp_data.imag, t, x)\n",
    "plt.show()"
   ]
  },
  {
   "cell_type": "code",
   "execution_count": null,
   "metadata": {},
   "outputs": [],
   "source": []
  }
 ],
 "metadata": {
  "kernelspec": {
   "display_name": "Python 3",
   "language": "python",
   "name": "python3"
  },
  "language_info": {
   "codemirror_mode": {
    "name": "ipython",
    "version": 3
   },
   "file_extension": ".py",
   "mimetype": "text/x-python",
   "name": "python",
   "nbconvert_exporter": "python",
   "pygments_lexer": "ipython3",
   "version": "3.8.5"
  }
 },
 "nbformat": 4,
 "nbformat_minor": 4
}
